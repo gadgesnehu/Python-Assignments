{
 "cells": [
  {
   "cell_type": "markdown",
   "id": "fe881fd8",
   "metadata": {},
   "source": [
    "### Assignment 3"
   ]
  },
  {
   "cell_type": "markdown",
   "id": "f4ed8e03",
   "metadata": {},
   "source": [
    "### User myreduce function"
   ]
  },
  {
   "cell_type": "code",
   "execution_count": 1,
   "id": "086dba4f",
   "metadata": {},
   "outputs": [],
   "source": [
    "def func(a,b):\n",
    "    return a+b\n",
    "    \n",
    "def myreduce(l, func):\n",
    "    l = list(reversed(l))\n",
    "    temp = l.pop()\n",
    "    while l:\n",
    "        popped = l.pop()\n",
    "        temp = func(popped, temp)\n",
    "    return temp\n"
   ]
  },
  {
   "cell_type": "code",
   "execution_count": 2,
   "id": "32580796",
   "metadata": {},
   "outputs": [
    {
     "data": {
      "text/plain": [
       "10"
      ]
     },
     "execution_count": 2,
     "metadata": {},
     "output_type": "execute_result"
    }
   ],
   "source": [
    "myreduce([1,2,3,4], func)"
   ]
  },
  {
   "cell_type": "markdown",
   "id": "6999a8f9",
   "metadata": {},
   "source": [
    "### User myfilter function"
   ]
  },
  {
   "cell_type": "markdown",
   "id": "c232e980",
   "metadata": {},
   "source": []
  },
  {
   "cell_type": "code",
   "execution_count": 3,
   "id": "f5a32f58",
   "metadata": {},
   "outputs": [],
   "source": [
    "def myfilter(l, func):\n",
    "    results = []\n",
    "    for ele in l:\n",
    "        temp = func(ele)\n",
    "        if temp:\n",
    "            results.append(temp)\n",
    "    return results"
   ]
  },
  {
   "cell_type": "code",
   "execution_count": 4,
   "id": "53020151",
   "metadata": {},
   "outputs": [],
   "source": [
    "def func(ele):\n",
    "    if ele%2==0:\n",
    "        return ele\n",
    "    else:\n",
    "        return None"
   ]
  },
  {
   "cell_type": "code",
   "execution_count": 5,
   "id": "e725b3e2",
   "metadata": {},
   "outputs": [
    {
     "data": {
      "text/plain": [
       "[2, 4, 6, 8]"
      ]
     },
     "execution_count": 5,
     "metadata": {},
     "output_type": "execute_result"
    }
   ],
   "source": [
    "number = [1,2,3,4,5,6,7,8,9]\n",
    "myfilter(number, func)"
   ]
  },
  {
   "cell_type": "markdown",
   "id": "1993b12b",
   "metadata": {},
   "source": [
    "### List comprehensions"
   ]
  },
  {
   "cell_type": "code",
   "execution_count": 6,
   "id": "ec778791",
   "metadata": {},
   "outputs": [
    {
     "data": {
      "text/plain": [
       "['x', 'xx', 'xxx', 'xxxx', 'y', 'yy', 'yyy', 'yyyy', 'z', 'zz', 'zzz', 'zzzz']"
      ]
     },
     "execution_count": 6,
     "metadata": {},
     "output_type": "execute_result"
    }
   ],
   "source": [
    "[i*j for i in 'xyz' for j in range(1,5)]\n"
   ]
  },
  {
   "cell_type": "code",
   "execution_count": 7,
   "id": "07aa73fb",
   "metadata": {},
   "outputs": [
    {
     "data": {
      "text/plain": [
       "['x', 'y', 'z', 'xx', 'yy', 'zz', 'xxx', 'yyy', 'zzz', 'xxxx', 'yyyy', 'zzzz']"
      ]
     },
     "execution_count": 7,
     "metadata": {},
     "output_type": "execute_result"
    }
   ],
   "source": [
    "[i*j for j in range(1,5) for i in 'xyz'] "
   ]
  },
  {
   "cell_type": "code",
   "execution_count": 8,
   "id": "e4804ea5",
   "metadata": {},
   "outputs": [],
   "source": [
    "l = [[x+y] for x in range(2,5) for y in range(3)]"
   ]
  },
  {
   "cell_type": "code",
   "execution_count": 9,
   "id": "9a60275a",
   "metadata": {},
   "outputs": [
    {
     "data": {
      "text/plain": [
       "[[2], [3], [4], [3], [4], [5], [4], [5], [6]]"
      ]
     },
     "execution_count": 9,
     "metadata": {},
     "output_type": "execute_result"
    }
   ],
   "source": [
    "l"
   ]
  },
  {
   "cell_type": "code",
   "execution_count": 12,
   "id": "d11bc031",
   "metadata": {},
   "outputs": [
    {
     "data": {
      "text/plain": [
       "[[2, 3, 4, 5], [3, 4, 5, 6], [4, 5, 6, 7], [5, 6, 7, 8]]"
      ]
     },
     "execution_count": 12,
     "metadata": {},
     "output_type": "execute_result"
    }
   ],
   "source": [
    "numbers = [2,3,4,5,6,7,8]\n",
    "[numbers[i:i+4] for i in range(len(numbers)-3)]"
   ]
  },
  {
   "cell_type": "code",
   "execution_count": 13,
   "id": "b2d8f93d",
   "metadata": {},
   "outputs": [
    {
     "data": {
      "text/plain": [
       "[(1, 1), (2, 1), (3, 1), (1, 2), (2, 2), (3, 2), (1, 3), (2, 3), (3, 3)]"
      ]
     },
     "execution_count": 13,
     "metadata": {},
     "output_type": "execute_result"
    }
   ],
   "source": [
    "numbers = [1,2,3]\n",
    "[(j, i) for i in numbers for j in numbers ]"
   ]
  }
 ],
 "metadata": {
  "kernelspec": {
   "display_name": "Python 3",
   "language": "python",
   "name": "python3"
  },
  "language_info": {
   "codemirror_mode": {
    "name": "ipython",
    "version": 3
   },
   "file_extension": ".py",
   "mimetype": "text/x-python",
   "name": "python",
   "nbconvert_exporter": "python",
   "pygments_lexer": "ipython3",
   "version": "3.8.10"
  }
 },
 "nbformat": 4,
 "nbformat_minor": 5
}
