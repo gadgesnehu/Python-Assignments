{
 "cells": [
  {
   "cell_type": "markdown",
   "id": "34df716c",
   "metadata": {},
   "source": [
    "### Modules , Exception Handling & Database Programming"
   ]
  },
  {
   "cell_type": "markdown",
   "id": "a687a691",
   "metadata": {},
   "source": [
    "#### 1. Write a function to compute 5/0 and use try/except to catch the exceptions."
   ]
  },
  {
   "cell_type": "code",
   "execution_count": 1,
   "id": "9f9fb90b",
   "metadata": {},
   "outputs": [
    {
     "name": "stdout",
     "output_type": "stream",
     "text": [
      "division by zero\n"
     ]
    }
   ],
   "source": [
    "try:\n",
    "    a=5/0\n",
    "    print (a)\n",
    "except Exception as e:\n",
    "    print(e)"
   ]
  },
  {
   "cell_type": "markdown",
   "id": "e99656ca",
   "metadata": {},
   "source": [
    "####  2. Implement a Python program to generate all sentences where subject is in  [\"Americans\", \"Indians\"] and verb is in [\"Play\", \"watch\"] and the object is in  [\"Baseball\",\"cricket\"]. \n",
    "Hint: Subject,Verb and Object should be declared in the program as shown below. \n",
    "subjects=[\"Americans \",\"Indians\"] \n",
    "verbs=[\"play\",\"watch\"] \n",
    "objects=[\"Baseball\",\"Cricket\"] \n"
   ]
  },
  {
   "cell_type": "code",
   "execution_count": 2,
   "id": "257925f6",
   "metadata": {},
   "outputs": [
    {
     "name": "stdout",
     "output_type": "stream",
     "text": [
      "Americans play Baseball.\n",
      "Americans play Cricket.\n",
      "Americans watch Baseball.\n",
      "Americans watch Cricket.\n",
      "Indians play Baseball.\n",
      "Indians play Cricket.\n",
      "Indians watch Baseball.\n",
      "Indians watch Cricket.\n"
     ]
    }
   ],
   "source": [
    "subject=[\"Americans\",\"Indians\"]\n",
    "verb=[\"play\",\"watch\"]\n",
    "objects=[\"Baseball\",\"Cricket\"]\n",
    "\n",
    "for i in subject:\n",
    "    for j in verb:\n",
    "        for k in objects:\n",
    "            print (i+\" \"+j+\" \"+ k+\".\")\n",
    "            \n"
   ]
  },
  {
   "cell_type": "markdown",
   "id": "757680ad",
   "metadata": {},
   "source": [
    "#### same by list comprehension"
   ]
  },
  {
   "cell_type": "code",
   "execution_count": 3,
   "id": "5c5678fb",
   "metadata": {
    "scrolled": true
   },
   "outputs": [
    {
     "name": "stdout",
     "output_type": "stream",
     "text": [
      "Americans play Baseball.\n",
      "Indians play Baseball.\n",
      "Americans watch Baseball.\n",
      "Indians watch Baseball.\n",
      "Americans play Cricket.\n",
      "Indians play Cricket.\n",
      "Americans watch Cricket.\n",
      "Indians watch Cricket.\n"
     ]
    }
   ],
   "source": [
    "_ = [print(s,v,o+'.') for o in objects for v in verb for s in subject]"
   ]
  },
  {
   "cell_type": "code",
   "execution_count": null,
   "id": "6dc749fc",
   "metadata": {},
   "outputs": [],
   "source": []
  }
 ],
 "metadata": {
  "kernelspec": {
   "display_name": "Python 3",
   "language": "python",
   "name": "python3"
  },
  "language_info": {
   "codemirror_mode": {
    "name": "ipython",
    "version": 3
   },
   "file_extension": ".py",
   "mimetype": "text/x-python",
   "name": "python",
   "nbconvert_exporter": "python",
   "pygments_lexer": "ipython3",
   "version": "3.9.4"
  }
 },
 "nbformat": 4,
 "nbformat_minor": 5
}
