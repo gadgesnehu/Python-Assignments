{
 "cells": [
  {
   "cell_type": "markdown",
   "id": "f1e337b0",
   "metadata": {},
   "source": [
    "### Assignment 4"
   ]
  },
  {
   "cell_type": "markdown",
   "id": "de151dfb",
   "metadata": {},
   "source": [
    "#### Write a Python Program(with class concepts) to find the area of the triangle using the below  formula. \n",
    "area = (s*(s-a)*(s-b)*(s-c)) ** 0.5 \n",
    "Function to take the length of the sides of triangle from user should be defined in the parent  class and function to calculate the area should be defined in subclass. \n",
    "\n"
   ]
  },
  {
   "cell_type": "code",
   "execution_count": 1,
   "id": "984f5f1a",
   "metadata": {},
   "outputs": [
    {
     "name": "stdout",
     "output_type": "stream",
     "text": [
      "a = 6\n",
      "b = 8\n",
      "c = 9.5\n",
      "area of triangle is  23.87589985215217\n"
     ]
    }
   ],
   "source": [
    "\n",
    "class parent:\n",
    "    def __init__(self,a,b,c):\n",
    "        self.a = a\n",
    "        self.b = b\n",
    "        self.c = c\n",
    "        \n",
    "class triangle(parent):\n",
    "    def area(self):\n",
    "        s = (self.a + self.b + self.c) / 2\n",
    "        return float((s*(s-self.a)*(s-self.b)*(s-self.c))) ** 0.5        \n",
    "\n",
    "a, b, c = float(input(\"a = \")), float(input(\"b = \")), float(input(\"c = \"))\n",
    "t = triangle(a,b,c)\n",
    "print('area of triangle is ', t.area())\n"
   ]
  },
  {
   "cell_type": "markdown",
   "id": "9784a646",
   "metadata": {},
   "source": [
    "#### Write a function filter_long_words() that takes a list of words and an integer n and returns  the list of words that are longer than n. \n"
   ]
  },
  {
   "cell_type": "code",
   "execution_count": 2,
   "id": "fa8f73c5",
   "metadata": {
    "scrolled": true
   },
   "outputs": [
    {
     "name": "stdout",
     "output_type": "stream",
     "text": [
      "Words seperated by spaces: This is my fourth assignment\n",
      "Length of words you want:2\n",
      "Words longer than  2 are: ['This', 'fourth', 'assignment']\n"
     ]
    }
   ],
   "source": [
    "def filter_long_words(n, words):\n",
    "    list_of_words=[]\n",
    "    a= words\n",
    "    for x in a:\n",
    "      if len(x)>n:\n",
    "        list_of_words.append(x)\n",
    "    return list_of_words\n",
    "\n",
    "def main():\n",
    "    words =input(\"Words seperated by spaces: \").split()\n",
    "    length =int(input(\"Length of words you want:\"))\n",
    "    print(\"Words longer than \",length,\"are:\" ,filter_long_words(length, words))\n",
    "    \n",
    "main()\n"
   ]
  },
  {
   "cell_type": "markdown",
   "id": "fc343b35",
   "metadata": {},
   "source": [
    "#### Write a Python program using function concept that maps list of words into a list of integers  representing the lengths of the corresponding words. "
   ]
  },
  {
   "cell_type": "code",
   "execution_count": 3,
   "id": "9cee7b42",
   "metadata": {},
   "outputs": [
    {
     "name": "stdout",
     "output_type": "stream",
     "text": [
      "Enter a list of words:This is my fourth assiginmet\n",
      "length of words is: [4, 2, 2, 6, 10]\n"
     ]
    }
   ],
   "source": [
    "def map_words(words):\n",
    "    \n",
    "    resulting_list=[]\n",
    "    for x in words:\n",
    "        resulting_list.append(len(x))\n",
    "    return resulting_list\n",
    "\n",
    "def main():\n",
    "    words = input(\"Enter a list of words:\").split()\n",
    "    print(\"length of words is:\" ,map_words(words))\n",
    "    \n",
    "main()\n"
   ]
  },
  {
   "cell_type": "markdown",
   "id": "25d146ff",
   "metadata": {},
   "source": [
    "#### Write a Python function which takes a character (i.e. a string of length 1) and returns True if  it is a vowel, False otherwise. \n"
   ]
  },
  {
   "cell_type": "code",
   "execution_count": 4,
   "id": "aafe777d",
   "metadata": {},
   "outputs": [
    {
     "data": {
      "text/plain": [
       "'True'"
      ]
     },
     "execution_count": 4,
     "metadata": {},
     "output_type": "execute_result"
    }
   ],
   "source": [
    "def my_funct(char):\n",
    "    if char.lower() in (\"a\",\"e\",\"i\",\"o\",\"u\"):\n",
    "        return(\"True\")\n",
    "    else:\n",
    "        return(\"False\")\n",
    "        \n",
    "my_funct('A')"
   ]
  },
  {
   "cell_type": "code",
   "execution_count": null,
   "id": "8b2c18c3",
   "metadata": {},
   "outputs": [],
   "source": []
  }
 ],
 "metadata": {
  "kernelspec": {
   "display_name": "Python 3",
   "language": "python",
   "name": "python3"
  },
  "language_info": {
   "codemirror_mode": {
    "name": "ipython",
    "version": 3
   },
   "file_extension": ".py",
   "mimetype": "text/x-python",
   "name": "python",
   "nbconvert_exporter": "python",
   "pygments_lexer": "ipython3",
   "version": "3.9.4"
  }
 },
 "nbformat": 4,
 "nbformat_minor": 5
}
